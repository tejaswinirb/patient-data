{
  "nbformat": 4,
  "nbformat_minor": 0,
  "metadata": {
    "colab": {
      "provenance": []
    },
    "kernelspec": {
      "name": "python3",
      "display_name": "Python 3"
    },
    "language_info": {
      "name": "python"
    }
  },
  "cells": [
    {
      "cell_type": "code",
      "execution_count": 1,
      "metadata": {
        "colab": {
          "base_uri": "https://localhost:8080/"
        },
        "id": "GpEonV-dt3OO",
        "outputId": "1588eb4f-ab20-4c59-9dc4-381371086fa3"
      },
      "outputs": [
        {
          "output_type": "stream",
          "name": "stdout",
          "text": [
            "Farthest patient: {'id': 4, 'HR': 78, 'BP': 136, 'TEMP': 37.0}\n",
            "Nearest patients: ({'id': 2, 'HR': 74, 'BP': 120, 'TEMP': 38.0}, {'id': 3, 'HR': 72, 'BP': 118, 'TEMP': 37.5})\n",
            "Closest patient to dummy: {'id': 1, 'HR': 76, 'BP': 126, 'TEMP': 38.0}\n"
          ]
        }
      ],
      "source": [
        "import numpy as np\n",
        "\n",
        "# Sample dataset of patients with HR, BP, and TEMP\n",
        "patients = [\n",
        "    {\"id\": 1, \"HR\": 76, \"BP\": 126, \"TEMP\": 38.0},\n",
        "    {\"id\": 2, \"HR\": 74, \"BP\": 120, \"TEMP\": 38.0},\n",
        "    {\"id\": 3, \"HR\": 72, \"BP\": 118, \"TEMP\": 37.5},\n",
        "    {\"id\": 4, \"HR\": 78, \"BP\": 136, \"TEMP\": 37.0},\n",
        "]\n",
        "\n",
        "# Function to calculate Euclidean distance between patients based on HR, BP, and TEMP\n",
        "def euclidean_distance(patient1, patient2):\n",
        "    features1 = np.array([patient1[\"HR\"], patient1[\"BP\"], patient1[\"TEMP\"]])\n",
        "    features2 = np.array([patient2[\"HR\"], patient2[\"BP\"], patient2[\"TEMP\"]])\n",
        "    return np.linalg.norm(features1 - features2)\n",
        "\n",
        "# Task 3: Find the patient farthest from the rest\n",
        "farthest_patient = None\n",
        "max_distance = -1\n",
        "\n",
        "for patient in patients:\n",
        "    total_distance = 0\n",
        "    for other_patient in patients:\n",
        "        if patient != other_patient:\n",
        "            total_distance += euclidean_distance(patient, other_patient)\n",
        "    if total_distance > max_distance:\n",
        "        max_distance = total_distance\n",
        "        farthest_patient = patient\n",
        "\n",
        "print(\"Farthest patient:\", farthest_patient)\n",
        "\n",
        "# Task 4: Find the two nearest patients\n",
        "nearest_patients = None\n",
        "min_distance = float(\"inf\")\n",
        "\n",
        "for i, patient1 in enumerate(patients):\n",
        "    for j, patient2 in enumerate(patients):\n",
        "        if i != j:\n",
        "            distance = euclidean_distance(patient1, patient2)\n",
        "            if distance < min_distance:\n",
        "                min_distance = distance\n",
        "                nearest_patients = (patient1, patient2)\n",
        "\n",
        "print(\"Nearest patients:\", nearest_patients)\n",
        "\n",
        "# Task 5: Create a new dummy patient and find the closest patient\n",
        "dummy_patient = {\"id\": 0, \"HR\": 75, \"BP\": 130, \"TEMP\": 37.8}\n",
        "closest_patient = min(patients, key=lambda patient: euclidean_distance(dummy_patient, patient))\n",
        "\n",
        "print(\"Closest patient to dummy:\", closest_patient)\n"
      ]
    }
  ]
}